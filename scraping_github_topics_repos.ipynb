{
  "nbformat": 4,
  "nbformat_minor": 0,
  "metadata": {
    "colab": {
      "name": "scraping-github-topics-repos.ipynb",
      "provenance": [],
      "authorship_tag": "ABX9TyPK8mkTNEHlDeJCto9sdxpC",
      "include_colab_link": true
    },
    "kernelspec": {
      "name": "python3",
      "display_name": "Python 3"
    },
    "language_info": {
      "name": "python"
    }
  },
  "cells": [
    {
      "cell_type": "markdown",
      "metadata": {
        "id": "view-in-github",
        "colab_type": "text"
      },
      "source": [
        "<a href=\"https://colab.research.google.com/github/LOWERCAS3/PracticeProjects/blob/master/scraping_github_topics_repos.ipynb\" target=\"_parent\"><img src=\"https://colab.research.google.com/assets/colab-badge.svg\" alt=\"Open In Colab\"/></a>"
      ]
    },
    {
      "cell_type": "markdown",
      "source": [
        "Pick a website and describe your objective\n",
        "\n",
        "\n",
        "Browse through different sites and pick on to scrape. Check the \"Project Ideas\" section for inspiration.\n",
        "Identify the information you'd like to scrape from the site. Decide the format of the output CSV file.\n",
        "Summarize your project idea and outline your strategy in a Juptyer notebook. Use the \"New\" button above.\n",
        "Use the requests library to download web pages\n",
        "\n",
        "Inspect the website's HTML source and identify the right URLs to download.\n",
        "Download and save web pages locally using the requests library.\n",
        "Create a function to automate downloading for different topics/search queries.\n",
        "Use Beautiful Soup to parse and extract information\n",
        "\n",
        "Parse and explore the structure of downloaded web pages using Beautiful soup.\n",
        "Use the right properties and methods to extract the required information.\n",
        "Create functions to extract from the page into lists and dictionaries.\n",
        "(Optional) Use a REST API to acquire additional information if required.\n",
        "Create CSV file(s) with the extracted information\n",
        "\n",
        "Create functions for the end-to-end process of downloading, parsing, and saving CSVs.\n",
        "Execute the function with different inputs to create a dataset of CSV files.\n",
        "Verify the information in the CSV files by reading them back using Pandas.\n",
        "Document and share your work\n",
        "\n",
        "Add proper headings and documentation in your Jupyter notebook.\n",
        "Publish your Jupyter notebook to your Jovian profile\n",
        "(Optional) Write a blog post about your project and share it online."
      ],
      "metadata": {
        "id": "VV0UIOvSGOEZ"
      }
    },
    {
      "cell_type": "markdown",
      "source": [
        "Outline of Work\n",
        "\n",
        "1.   I want to scrape www.github.com/topics page.\n",
        "2.   I want to have columns as Owner, Repo_name, Repu_Url, Stars.\n",
        "3.   I want to get top 25 repos for each topic.\n",
        "4.   I will iterate over each topics and get scraped columns over for CSV.\n",
        "\n",
        "\n"
      ],
      "metadata": {
        "id": "fQ9WKmLwgDof"
      }
    },
    {
      "cell_type": "markdown",
      "source": [
        "# **Top Repos For github topics**\n"
      ],
      "metadata": {
        "id": "-x3gSEx8FNmV"
      }
    },
    {
      "cell_type": "code",
      "source": [
        "!pip install requests   # installs requests"
      ],
      "metadata": {
        "id": "yEYp0a2hFTZ3",
        "colab": {
          "base_uri": "https://localhost:8080/"
        },
        "outputId": "70013c34-131a-46fc-d655-39cb6dc7e5e5"
      },
      "execution_count": null,
      "outputs": [
        {
          "output_type": "stream",
          "name": "stdout",
          "text": [
            "Requirement already satisfied: requests in /usr/local/lib/python3.7/dist-packages (2.26.0)\n",
            "Requirement already satisfied: urllib3<1.27,>=1.21.1 in /usr/local/lib/python3.7/dist-packages (from requests) (1.24.3)\n",
            "Requirement already satisfied: idna<4,>=2.5 in /usr/local/lib/python3.7/dist-packages (from requests) (2.10)\n",
            "Requirement already satisfied: certifi>=2017.4.17 in /usr/local/lib/python3.7/dist-packages (from requests) (2021.10.8)\n",
            "Requirement already satisfied: charset-normalizer~=2.0.0 in /usr/local/lib/python3.7/dist-packages (from requests) (2.0.8)\n"
          ]
        }
      ]
    },
    {
      "cell_type": "code",
      "source": [
        "import requests"
      ],
      "metadata": {
        "id": "BghVzD1MhYUz"
      },
      "execution_count": null,
      "outputs": []
    },
    {
      "cell_type": "code",
      "source": [
        "topics_url = 'http://www.github.com/topics'"
      ],
      "metadata": {
        "id": "mbR_pMd3im7F"
      },
      "execution_count": null,
      "outputs": []
    },
    {
      "cell_type": "code",
      "source": [
        "response  =  requests.get(topics_url)   # Returns a response object (HTML code of that page is part of the object)"
      ],
      "metadata": {
        "id": "7rt6xveZm-dA"
      },
      "execution_count": null,
      "outputs": []
    },
    {
      "cell_type": "code",
      "source": [
        "response.status_code"
      ],
      "metadata": {
        "colab": {
          "base_uri": "https://localhost:8080/"
        },
        "id": "2IGd8Tc5nRAr",
        "outputId": "72dd282b-9eba-4417-ca96-1b6654862a68"
      },
      "execution_count": null,
      "outputs": [
        {
          "output_type": "execute_result",
          "data": {
            "text/plain": [
              "200"
            ]
          },
          "metadata": {},
          "execution_count": 16
        }
      ]
    },
    {
      "cell_type": "code",
      "source": [
        "len(response.text)\n"
      ],
      "metadata": {
        "colab": {
          "base_uri": "https://localhost:8080/"
        },
        "id": "cM5XxS3ToD1T",
        "outputId": "336ead15-0b45-4c68-9752-d55dd082b709"
      },
      "execution_count": null,
      "outputs": [
        {
          "output_type": "execute_result",
          "data": {
            "text/plain": [
              "174793"
            ]
          },
          "metadata": {},
          "execution_count": 17
        }
      ]
    },
    {
      "cell_type": "code",
      "source": [
        "page_content = response.text"
      ],
      "metadata": {
        "id": "BnpcLi63nVYg"
      },
      "execution_count": null,
      "outputs": []
    },
    {
      "cell_type": "markdown",
      "source": [
        "**Setting up BeautifulSoup**\n"
      ],
      "metadata": {
        "id": "ekxg7BWxv6jh"
      }
    },
    {
      "cell_type": "code",
      "source": [
        "pip install beautifulsoup4  #installs beautifulSoup\n"
      ],
      "metadata": {
        "colab": {
          "base_uri": "https://localhost:8080/"
        },
        "id": "gu17VVqroH95",
        "outputId": "7ae28d76-a240-4e32-ffcd-8145d95275a4"
      },
      "execution_count": null,
      "outputs": [
        {
          "output_type": "stream",
          "name": "stdout",
          "text": [
            "Requirement already satisfied: beautifulsoup4 in /usr/local/lib/python3.7/dist-packages (4.10.0)\n",
            "Requirement already satisfied: soupsieve>1.2 in /usr/local/lib/python3.7/dist-packages (from beautifulsoup4) (2.3.1)\n"
          ]
        }
      ]
    },
    {
      "cell_type": "code",
      "source": [
        "from bs4 import BeautifulSoup"
      ],
      "metadata": {
        "id": "ekke7eZ8wGsn"
      },
      "execution_count": null,
      "outputs": []
    },
    {
      "cell_type": "code",
      "source": [
        "parsed_doc = BeautifulSoup(page_content, 'html.parser')"
      ],
      "metadata": {
        "id": "KQMdIl3Swxns"
      },
      "execution_count": null,
      "outputs": []
    },
    {
      "cell_type": "code",
      "source": [
        "type(parsed_doc)"
      ],
      "metadata": {
        "id": "a8oNRKh-xnin",
        "colab": {
          "base_uri": "https://localhost:8080/"
        },
        "outputId": "4e1d3d50-54ba-4e98-d2c1-7180b0be0257"
      },
      "execution_count": null,
      "outputs": [
        {
          "output_type": "execute_result",
          "data": {
            "text/plain": [
              "bs4.BeautifulSoup"
            ]
          },
          "metadata": {},
          "execution_count": 22
        }
      ]
    },
    {
      "cell_type": "code",
      "source": [
        "title_selector = 'f3 lh-condensed mb-0 mt-1 Link--primary'\n",
        "topic_title_tags = parsed_doc.find_all('p', {'class':title_selector})\n",
        "topic_title_tags[:10]"
      ],
      "metadata": {
        "id": "69y3Qn_Sxpa-",
        "colab": {
          "base_uri": "https://localhost:8080/"
        },
        "outputId": "87515365-6224-4706-8397-2bc9efdd3802"
      },
      "execution_count": null,
      "outputs": [
        {
          "output_type": "execute_result",
          "data": {
            "text/plain": [
              "[<p class=\"f3 lh-condensed mb-0 mt-1 Link--primary\">3D</p>,\n",
              " <p class=\"f3 lh-condensed mb-0 mt-1 Link--primary\">Ajax</p>,\n",
              " <p class=\"f3 lh-condensed mb-0 mt-1 Link--primary\">Algorithm</p>,\n",
              " <p class=\"f3 lh-condensed mb-0 mt-1 Link--primary\">Amp</p>,\n",
              " <p class=\"f3 lh-condensed mb-0 mt-1 Link--primary\">Android</p>,\n",
              " <p class=\"f3 lh-condensed mb-0 mt-1 Link--primary\">Angular</p>,\n",
              " <p class=\"f3 lh-condensed mb-0 mt-1 Link--primary\">Ansible</p>,\n",
              " <p class=\"f3 lh-condensed mb-0 mt-1 Link--primary\">API</p>,\n",
              " <p class=\"f3 lh-condensed mb-0 mt-1 Link--primary\">Arduino</p>,\n",
              " <p class=\"f3 lh-condensed mb-0 mt-1 Link--primary\">ASP.NET</p>]"
            ]
          },
          "metadata": {},
          "execution_count": 73
        }
      ]
    },
    {
      "cell_type": "code",
      "source": [
        "desc_selector = 'f5 color-fg-muted mb-0 mt-1'\n",
        "topic_desc_tags = parsed_doc.find_all('p',{'class':desc_selector})\n",
        "topic_desc_tags[:5]"
      ],
      "metadata": {
        "colab": {
          "base_uri": "https://localhost:8080/"
        },
        "id": "tugkEghvOVGQ",
        "outputId": "44d3883c-2d45-431f-dc18-561a68df1b8b"
      },
      "execution_count": null,
      "outputs": [
        {
          "output_type": "execute_result",
          "data": {
            "text/plain": [
              "[<p class=\"f5 color-fg-muted mb-0 mt-1\">\n",
              "               3D modeling is the process of virtually developing the surface and structure of a 3D object.\n",
              "             </p>, <p class=\"f5 color-fg-muted mb-0 mt-1\">\n",
              "               Ajax is a technique for creating interactive web applications.\n",
              "             </p>, <p class=\"f5 color-fg-muted mb-0 mt-1\">\n",
              "               Algorithms are self-contained sequences that carry out a variety of tasks.\n",
              "             </p>, <p class=\"f5 color-fg-muted mb-0 mt-1\">\n",
              "               Amp is a non-blocking concurrency framework for PHP.\n",
              "             </p>, <p class=\"f5 color-fg-muted mb-0 mt-1\">\n",
              "               Android is an operating system built by Google designed for mobile devices.\n",
              "             </p>]"
            ]
          },
          "metadata": {},
          "execution_count": 74
        }
      ]
    },
    {
      "cell_type": "code",
      "source": [
        "topic_url_selector = 'd-flex no-underline'\n",
        "topic_url_tags = parsed_doc.find_all('a',{'class':topic_url_selector})"
      ],
      "metadata": {
        "id": "y45AXud4PxMx"
      },
      "execution_count": null,
      "outputs": []
    },
    {
      "cell_type": "code",
      "source": [
        "topic_title = []\n",
        "for tags in topic_title_tags:\n",
        "  topic_title.append(tags.text)\n",
        "topic_title[:5]"
      ],
      "metadata": {
        "colab": {
          "base_uri": "https://localhost:8080/"
        },
        "id": "Pr8ZormARl1N",
        "outputId": "2d3f06ca-8a69-44dd-b87f-197d19607874"
      },
      "execution_count": null,
      "outputs": [
        {
          "output_type": "execute_result",
          "data": {
            "text/plain": [
              "['3D', 'Ajax', 'Algorithm', 'Amp', 'Android']"
            ]
          },
          "metadata": {},
          "execution_count": 75
        }
      ]
    },
    {
      "cell_type": "code",
      "source": [
        "topic_desc = []\n",
        "for tags in topic_desc_tags:\n",
        "  topic_desc.append(tags.text.strip())\n",
        "topic_desc[:5]"
      ],
      "metadata": {
        "colab": {
          "base_uri": "https://localhost:8080/"
        },
        "id": "uc8Sj5VLS4Vb",
        "outputId": "0807fa39-5d00-4e67-a6fd-f4af468ce3ef"
      },
      "execution_count": null,
      "outputs": [
        {
          "output_type": "execute_result",
          "data": {
            "text/plain": [
              "['3D modeling is the process of virtually developing the surface and structure of a 3D object.',\n",
              " 'Ajax is a technique for creating interactive web applications.',\n",
              " 'Algorithms are self-contained sequences that carry out a variety of tasks.',\n",
              " 'Amp is a non-blocking concurrency framework for PHP.',\n",
              " 'Android is an operating system built by Google designed for mobile devices.']"
            ]
          },
          "metadata": {},
          "execution_count": 76
        }
      ]
    },
    {
      "cell_type": "code",
      "source": [
        "topic_url = []\n",
        "base_url = 'https://github.com'\n",
        "for tags in topic_url_tags:\n",
        "  topic_url.append(base_url + tags['href'])\n",
        "topic_url[:5]"
      ],
      "metadata": {
        "colab": {
          "base_uri": "https://localhost:8080/"
        },
        "id": "zmG5heBsTHAL",
        "outputId": "40e775d4-56a1-48a3-82b5-edc78abb6b31"
      },
      "execution_count": null,
      "outputs": [
        {
          "output_type": "execute_result",
          "data": {
            "text/plain": [
              "['https://github.com/topics/3d',\n",
              " 'https://github.com/topics/ajax',\n",
              " 'https://github.com/topics/algorithm',\n",
              " 'https://github.com/topics/amphp',\n",
              " 'https://github.com/topics/android']"
            ]
          },
          "metadata": {},
          "execution_count": 78
        }
      ]
    },
    {
      "cell_type": "code",
      "source": [
        "!pip install pandas"
      ],
      "metadata": {
        "colab": {
          "base_uri": "https://localhost:8080/"
        },
        "id": "g8gkGMlMTeHW",
        "outputId": "a1f3c426-2889-43a6-83d0-c6398360880d"
      },
      "execution_count": null,
      "outputs": [
        {
          "output_type": "stream",
          "name": "stdout",
          "text": [
            "Requirement already satisfied: pandas in /usr/local/lib/python3.7/dist-packages (1.1.5)\n",
            "Requirement already satisfied: python-dateutil>=2.7.3 in /usr/local/lib/python3.7/dist-packages (from pandas) (2.8.2)\n",
            "Requirement already satisfied: pytz>=2017.2 in /usr/local/lib/python3.7/dist-packages (from pandas) (2018.9)\n",
            "Requirement already satisfied: numpy>=1.15.4 in /usr/local/lib/python3.7/dist-packages (from pandas) (1.19.5)\n",
            "Requirement already satisfied: six>=1.5 in /usr/local/lib/python3.7/dist-packages (from python-dateutil>=2.7.3->pandas) (1.15.0)\n"
          ]
        }
      ]
    },
    {
      "cell_type": "code",
      "source": [
        "import pandas as pd"
      ],
      "metadata": {
        "id": "9gN-_3w7U1Hz"
      },
      "execution_count": null,
      "outputs": []
    },
    {
      "cell_type": "code",
      "source": [
        "topics_dict = {\n",
        "    'title' : topic_title,\n",
        "    'description' : topic_desc,\n",
        "    'url' : topic_url\n",
        "}"
      ],
      "metadata": {
        "id": "O5f2cGLAU3sB"
      },
      "execution_count": null,
      "outputs": []
    },
    {
      "cell_type": "code",
      "source": [
        "topics_df = pd.DataFrame(topics_dict)"
      ],
      "metadata": {
        "id": "NIX-1bP-VkHr"
      },
      "execution_count": null,
      "outputs": []
    },
    {
      "cell_type": "code",
      "source": [
        "topics_df.to_csv('topics.csv', index=None)"
      ],
      "metadata": {
        "id": "5FbhOON5WF0e"
      },
      "execution_count": null,
      "outputs": []
    },
    {
      "cell_type": "markdown",
      "source": [
        "Scraping first url in the topics"
      ],
      "metadata": {
        "id": "ioXavKXvadQj"
      }
    },
    {
      "cell_type": "code",
      "source": [
        "topic_url[0]"
      ],
      "metadata": {
        "colab": {
          "base_uri": "https://localhost:8080/",
          "height": 35
        },
        "id": "3iehxzZwWU2X",
        "outputId": "2ce419bb-2681-4504-9c95-43f851bffe18"
      },
      "execution_count": null,
      "outputs": [
        {
          "output_type": "execute_result",
          "data": {
            "application/vnd.google.colaboratory.intrinsic+json": {
              "type": "string"
            },
            "text/plain": [
              "'https://github.com/topics/3d'"
            ]
          },
          "metadata": {},
          "execution_count": 91
        }
      ]
    },
    {
      "cell_type": "code",
      "source": [
        "topic_response = requests.get(topic_url[0])"
      ],
      "metadata": {
        "id": "UJ3Z7gi0aZCd"
      },
      "execution_count": null,
      "outputs": []
    },
    {
      "cell_type": "code",
      "source": [
        "len(topic_response.text)"
      ],
      "metadata": {
        "colab": {
          "base_uri": "https://localhost:8080/"
        },
        "id": "mlqMKqiQau2Z",
        "outputId": "3dcb2eb0-7c90-45ab-8f7c-04eccee4645a"
      },
      "execution_count": null,
      "outputs": [
        {
          "output_type": "execute_result",
          "data": {
            "text/plain": [
              "662453"
            ]
          },
          "metadata": {},
          "execution_count": 99
        }
      ]
    },
    {
      "cell_type": "code",
      "source": [
        "topic_doc = BeautifulSoup(topic_response.text, 'html.parser')"
      ],
      "metadata": {
        "id": "noEFXZJ8ayuJ"
      },
      "execution_count": null,
      "outputs": []
    },
    {
      "cell_type": "code",
      "source": [
        "type(topic_doc)"
      ],
      "metadata": {
        "colab": {
          "base_uri": "https://localhost:8080/"
        },
        "id": "SiN8mAYrbLSc",
        "outputId": "a9f7a266-c7b2-4c9e-85c9-56b8301382b3"
      },
      "execution_count": null,
      "outputs": [
        {
          "output_type": "execute_result",
          "data": {
            "text/plain": [
              "bs4.BeautifulSoup"
            ]
          },
          "metadata": {},
          "execution_count": 102
        }
      ]
    },
    {
      "cell_type": "code",
      "source": [
        "len(topic_doc)"
      ],
      "metadata": {
        "colab": {
          "base_uri": "https://localhost:8080/"
        },
        "id": "l1wpPUTebU78",
        "outputId": "136cb374-d7fa-4cd1-cd4d-2a9387c21d68"
      },
      "execution_count": null,
      "outputs": [
        {
          "output_type": "execute_result",
          "data": {
            "text/plain": [
              "5"
            ]
          },
          "metadata": {},
          "execution_count": 103
        }
      ]
    },
    {
      "cell_type": "markdown",
      "source": [
        "Getting necessary information from topic_doc to create a csv for single topic"
      ],
      "metadata": {
        "id": "mCzcLQl1boUD"
      }
    },
    {
      "cell_type": "code",
      "source": [
        "h3_selector = 'f3 color-fg-muted text-normal lh-condensed'\n",
        "h3_tags = topic_doc.find_all('h3', {'class' :h3_selector})\n",
        "h3_tags"
      ],
      "metadata": {
        "colab": {
          "base_uri": "https://localhost:8080/",
          "height": 200
        },
        "id": "XSVST9FgbXvm",
        "outputId": "a038c42d-4e16-41b2-8cd3-86f14f4efd54"
      },
      "execution_count": null,
      "outputs": [
        {
          "output_type": "error",
          "ename": "TypeError",
          "evalue": "ignored",
          "traceback": [
            "\u001b[0;31m---------------------------------------------------------------------------\u001b[0m",
            "\u001b[0;31mTypeError\u001b[0m                                 Traceback (most recent call last)",
            "\u001b[0;32m<ipython-input-127-4cd5b21a7204>\u001b[0m in \u001b[0;36m<module>\u001b[0;34m()\u001b[0m\n\u001b[1;32m      1\u001b[0m \u001b[0mh3_selector\u001b[0m \u001b[0;34m=\u001b[0m \u001b[0;34m'f3 color-fg-muted text-normal lh-condensed'\u001b[0m\u001b[0;34m\u001b[0m\u001b[0;34m\u001b[0m\u001b[0m\n\u001b[1;32m      2\u001b[0m \u001b[0mh3_tags\u001b[0m \u001b[0;34m=\u001b[0m \u001b[0mtopic_doc\u001b[0m\u001b[0;34m.\u001b[0m\u001b[0mfind_all\u001b[0m\u001b[0;34m(\u001b[0m\u001b[0;34m'h3'\u001b[0m\u001b[0;34m,\u001b[0m \u001b[0;34m{\u001b[0m\u001b[0;34m'class'\u001b[0m \u001b[0;34m:\u001b[0m\u001b[0mh3_selector\u001b[0m\u001b[0;34m}\u001b[0m\u001b[0;34m)\u001b[0m\u001b[0;34m\u001b[0m\u001b[0;34m\u001b[0m\u001b[0m\n\u001b[0;32m----> 3\u001b[0;31m \u001b[0mh3_tags\u001b[0m\u001b[0;34m[\u001b[0m\u001b[0;34m'a'\u001b[0m\u001b[0;34m]\u001b[0m\u001b[0;34m\u001b[0m\u001b[0;34m\u001b[0m\u001b[0m\n\u001b[0m",
            "\u001b[0;31mTypeError\u001b[0m: list indices must be integers or slices, not str"
          ]
        }
      ]
    },
    {
      "cell_type": "code",
      "source": [
        "a_tags = h3_tags[0].find_all('a')"
      ],
      "metadata": {
        "id": "ugFBoWexexYC"
      },
      "execution_count": null,
      "outputs": []
    },
    {
      "cell_type": "code",
      "source": [
        "star_selector = 'Counter js-social-count'\n",
        "star_tags = topic_doc.find_all('span', {'class': star_selector})\n",
        "int(star_tags[0]['title'].replace(',', ''))"
      ],
      "metadata": {
        "colab": {
          "base_uri": "https://localhost:8080/"
        },
        "id": "sYA_4Y-WcUSp",
        "outputId": "68c1f871-d494-44a8-f0b4-76e9ba8d4124"
      },
      "execution_count": null,
      "outputs": [
        {
          "output_type": "execute_result",
          "data": {
            "text/plain": [
              "77071"
            ]
          },
          "metadata": {},
          "execution_count": 122
        }
      ]
    },
    {
      "cell_type": "code",
      "source": [
        "\n",
        "def get_repo_info(h3_tags, star_tags):\n",
        "  #Returns all the info about the repo\n",
        "  a_tags = h3_tags.find_all"
      ],
      "metadata": {
        "id": "5BY76-G9dEXH"
      },
      "execution_count": null,
      "outputs": []
    }
  ]
}