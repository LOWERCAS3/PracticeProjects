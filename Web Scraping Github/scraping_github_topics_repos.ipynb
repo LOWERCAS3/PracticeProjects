{
  "nbformat": 4,
  "nbformat_minor": 0,
  "metadata": {
    "colab": {
      "name": "scraping-github-topics-repos.ipynb",
      "provenance": [],
      "authorship_tag": "ABX9TyOFCROqoAzeiaok7Gl+4UgK",
      "include_colab_link": true
    },
    "kernelspec": {
      "name": "python3",
      "display_name": "Python 3"
    },
    "language_info": {
      "name": "python"
    }
  },
  "cells": [
    {
      "cell_type": "markdown",
      "metadata": {
        "id": "view-in-github",
        "colab_type": "text"
      },
      "source": [
        "<a href=\"https://colab.research.google.com/github/LOWERCAS3/PracticeProjects/blob/master/Web%20Scraping%20Github/scraping_github_topics_repos.ipynb\" target=\"_parent\"><img src=\"https://colab.research.google.com/assets/colab-badge.svg\" alt=\"Open In Colab\"/></a>"
      ]
    },
    {
      "cell_type": "markdown",
      "source": [
        "Pick a website and describe your objective\n",
        "\n",
        "\n",
        "Browse through different sites and pick on to scrape. Check the \"Project Ideas\" section for inspiration.\n",
        "Identify the information you'd like to scrape from the site. Decide the format of the output CSV file.\n",
        "Summarize your project idea and outline your strategy in a Juptyer notebook. Use the \"New\" button above.\n",
        "Use the requests library to download web pages\n",
        "\n",
        "Inspect the website's HTML source and identify the right URLs to download.\n",
        "Download and save web pages locally using the requests library.\n",
        "Create a function to automate downloading for different topics/search queries.\n",
        "Use Beautiful Soup to parse and extract information\n",
        "\n",
        "Parse and explore the structure of downloaded web pages using Beautiful soup.\n",
        "Use the right properties and methods to extract the required information.\n",
        "Create functions to extract from the page into lists and dictionaries.\n",
        "(Optional) Use a REST API to acquire additional information if required.\n",
        "Create CSV file(s) with the extracted information\n",
        "\n",
        "Create functions for the end-to-end process of downloading, parsing, and saving CSVs.\n",
        "Execute the function with different inputs to create a dataset of CSV files.\n",
        "Verify the information in the CSV files by reading them back using Pandas.\n",
        "Document and share your work\n",
        "\n",
        "Add proper headings and documentation in your Jupyter notebook.\n",
        "Publish your Jupyter notebook to your Jovian profile\n",
        "(Optional) Write a blog post about your project and share it online."
      ],
      "metadata": {
        "id": "VV0UIOvSGOEZ"
      }
    },
    {
      "cell_type": "markdown",
      "source": [
        "Outline of Work\n",
        "\n",
        "1.   I want to scrape www.github.com/topics page.\n",
        "2.   I want to have columns as Owner, Repo_name, Repu_Url, Stars.\n",
        "3.   I want to get top 25 repos for each topic.\n",
        "4.   I will iterate over each topics and get scraped columns over for CSV.\n",
        "\n",
        "\n"
      ],
      "metadata": {
        "id": "fQ9WKmLwgDof"
      }
    },
    {
      "cell_type": "markdown",
      "source": [
        "# **Top Repos For github topics**\n"
      ],
      "metadata": {
        "id": "-x3gSEx8FNmV"
      }
    },
    {
      "cell_type": "code",
      "source": [
        "!pip install requests   # installs requests"
      ],
      "metadata": {
        "id": "yEYp0a2hFTZ3",
        "colab": {
          "base_uri": "https://localhost:8080/"
        },
        "outputId": "4738d629-10ad-4289-c63d-4acd382f6e1d"
      },
      "execution_count": 1,
      "outputs": [
        {
          "output_type": "stream",
          "name": "stdout",
          "text": [
            "Requirement already satisfied: requests in /usr/local/lib/python3.7/dist-packages (2.23.0)\n",
            "Requirement already satisfied: urllib3!=1.25.0,!=1.25.1,<1.26,>=1.21.1 in /usr/local/lib/python3.7/dist-packages (from requests) (1.24.3)\n",
            "Requirement already satisfied: certifi>=2017.4.17 in /usr/local/lib/python3.7/dist-packages (from requests) (2021.10.8)\n",
            "Requirement already satisfied: idna<3,>=2.5 in /usr/local/lib/python3.7/dist-packages (from requests) (2.10)\n",
            "Requirement already satisfied: chardet<4,>=3.0.2 in /usr/local/lib/python3.7/dist-packages (from requests) (3.0.4)\n"
          ]
        }
      ]
    },
    {
      "cell_type": "code",
      "source": [
        "import requests"
      ],
      "metadata": {
        "id": "BghVzD1MhYUz"
      },
      "execution_count": 2,
      "outputs": []
    },
    {
      "cell_type": "code",
      "source": [
        "topics_url = 'http://www.github.com/topics'"
      ],
      "metadata": {
        "id": "mbR_pMd3im7F"
      },
      "execution_count": 3,
      "outputs": []
    },
    {
      "cell_type": "code",
      "source": [
        "response  =  requests.get(topics_url)   # Returns a response object (HTML code of that page is part of the object)"
      ],
      "metadata": {
        "id": "7rt6xveZm-dA"
      },
      "execution_count": 4,
      "outputs": []
    },
    {
      "cell_type": "code",
      "source": [
        "response.status_code"
      ],
      "metadata": {
        "colab": {
          "base_uri": "https://localhost:8080/"
        },
        "id": "2IGd8Tc5nRAr",
        "outputId": "549977e8-81db-4efb-a26d-acd5edf13220"
      },
      "execution_count": 5,
      "outputs": [
        {
          "output_type": "execute_result",
          "data": {
            "text/plain": [
              "200"
            ]
          },
          "metadata": {},
          "execution_count": 5
        }
      ]
    },
    {
      "cell_type": "code",
      "source": [
        "len(response.text)\n"
      ],
      "metadata": {
        "colab": {
          "base_uri": "https://localhost:8080/"
        },
        "id": "cM5XxS3ToD1T",
        "outputId": "7729e119-7363-48d7-8189-73932f8f2ab1"
      },
      "execution_count": 6,
      "outputs": [
        {
          "output_type": "execute_result",
          "data": {
            "text/plain": [
              "174795"
            ]
          },
          "metadata": {},
          "execution_count": 6
        }
      ]
    },
    {
      "cell_type": "code",
      "source": [
        "page_content = response.text"
      ],
      "metadata": {
        "id": "BnpcLi63nVYg"
      },
      "execution_count": 7,
      "outputs": []
    },
    {
      "cell_type": "markdown",
      "source": [
        "**Setting up BeautifulSoup**\n"
      ],
      "metadata": {
        "id": "ekxg7BWxv6jh"
      }
    },
    {
      "cell_type": "code",
      "source": [
        "pip install beautifulsoup4  #installs beautifulSoup\n"
      ],
      "metadata": {
        "colab": {
          "base_uri": "https://localhost:8080/"
        },
        "id": "gu17VVqroH95",
        "outputId": "48d17f5b-1b12-4aef-f05a-86af95676311"
      },
      "execution_count": 8,
      "outputs": [
        {
          "output_type": "stream",
          "name": "stdout",
          "text": [
            "Requirement already satisfied: beautifulsoup4 in /usr/local/lib/python3.7/dist-packages (4.6.3)\n"
          ]
        }
      ]
    },
    {
      "cell_type": "code",
      "source": [
        "from bs4 import BeautifulSoup"
      ],
      "metadata": {
        "id": "ekke7eZ8wGsn"
      },
      "execution_count": 9,
      "outputs": []
    },
    {
      "cell_type": "code",
      "source": [
        "parsed_doc = BeautifulSoup(page_content, 'html.parser')"
      ],
      "metadata": {
        "id": "KQMdIl3Swxns"
      },
      "execution_count": 10,
      "outputs": []
    },
    {
      "cell_type": "code",
      "source": [
        "type(parsed_doc)"
      ],
      "metadata": {
        "id": "a8oNRKh-xnin",
        "colab": {
          "base_uri": "https://localhost:8080/"
        },
        "outputId": "d0c52559-8167-4227-83ce-450ac285fc51"
      },
      "execution_count": 11,
      "outputs": [
        {
          "output_type": "execute_result",
          "data": {
            "text/plain": [
              "bs4.BeautifulSoup"
            ]
          },
          "metadata": {},
          "execution_count": 11
        }
      ]
    },
    {
      "cell_type": "code",
      "source": [
        "title_selector = 'f3 lh-condensed mb-0 mt-1 Link--primary'\n",
        "topic_title_tags = parsed_doc.find_all('p', {'class':title_selector})\n",
        "topic_title_tags[:10]"
      ],
      "metadata": {
        "id": "69y3Qn_Sxpa-",
        "colab": {
          "base_uri": "https://localhost:8080/"
        },
        "outputId": "354e01ba-f6a4-4850-fc54-d63c0471b4ad"
      },
      "execution_count": 12,
      "outputs": [
        {
          "output_type": "execute_result",
          "data": {
            "text/plain": [
              "[<p class=\"f3 lh-condensed mb-0 mt-1 Link--primary\">3D</p>,\n",
              " <p class=\"f3 lh-condensed mb-0 mt-1 Link--primary\">Ajax</p>,\n",
              " <p class=\"f3 lh-condensed mb-0 mt-1 Link--primary\">Algorithm</p>,\n",
              " <p class=\"f3 lh-condensed mb-0 mt-1 Link--primary\">Amp</p>,\n",
              " <p class=\"f3 lh-condensed mb-0 mt-1 Link--primary\">Android</p>,\n",
              " <p class=\"f3 lh-condensed mb-0 mt-1 Link--primary\">Angular</p>,\n",
              " <p class=\"f3 lh-condensed mb-0 mt-1 Link--primary\">Ansible</p>,\n",
              " <p class=\"f3 lh-condensed mb-0 mt-1 Link--primary\">API</p>,\n",
              " <p class=\"f3 lh-condensed mb-0 mt-1 Link--primary\">Arduino</p>,\n",
              " <p class=\"f3 lh-condensed mb-0 mt-1 Link--primary\">ASP.NET</p>]"
            ]
          },
          "metadata": {},
          "execution_count": 12
        }
      ]
    },
    {
      "cell_type": "code",
      "source": [
        "desc_selector = 'f5 color-fg-muted mb-0 mt-1'\n",
        "topic_desc_tags = parsed_doc.find_all('p',{'class':desc_selector})\n",
        "topic_desc_tags[:5]"
      ],
      "metadata": {
        "colab": {
          "base_uri": "https://localhost:8080/"
        },
        "id": "tugkEghvOVGQ",
        "outputId": "45b7315c-38ae-4c61-e2e1-55d9e65e5aec"
      },
      "execution_count": 13,
      "outputs": [
        {
          "output_type": "execute_result",
          "data": {
            "text/plain": [
              "[<p class=\"f5 color-fg-muted mb-0 mt-1\">\n",
              "               3D modeling is the process of virtually developing the surface and structure of a 3D object.\n",
              "             </p>, <p class=\"f5 color-fg-muted mb-0 mt-1\">\n",
              "               Ajax is a technique for creating interactive web applications.\n",
              "             </p>, <p class=\"f5 color-fg-muted mb-0 mt-1\">\n",
              "               Algorithms are self-contained sequences that carry out a variety of tasks.\n",
              "             </p>, <p class=\"f5 color-fg-muted mb-0 mt-1\">\n",
              "               Amp is a non-blocking concurrency framework for PHP.\n",
              "             </p>, <p class=\"f5 color-fg-muted mb-0 mt-1\">\n",
              "               Android is an operating system built by Google designed for mobile devices.\n",
              "             </p>]"
            ]
          },
          "metadata": {},
          "execution_count": 13
        }
      ]
    },
    {
      "cell_type": "code",
      "source": [
        "topic_url_selector = 'd-flex no-underline'\n",
        "topic_url_tags = parsed_doc.find_all('a',{'class':topic_url_selector})"
      ],
      "metadata": {
        "id": "y45AXud4PxMx"
      },
      "execution_count": 14,
      "outputs": []
    },
    {
      "cell_type": "code",
      "source": [
        "topic_title = []\n",
        "for tags in topic_title_tags:\n",
        "  topic_title.append(tags.text)\n",
        "topic_title[:5]"
      ],
      "metadata": {
        "colab": {
          "base_uri": "https://localhost:8080/"
        },
        "id": "Pr8ZormARl1N",
        "outputId": "ce57160c-796c-44a2-8f02-a0552d784719"
      },
      "execution_count": 15,
      "outputs": [
        {
          "output_type": "execute_result",
          "data": {
            "text/plain": [
              "['3D', 'Ajax', 'Algorithm', 'Amp', 'Android']"
            ]
          },
          "metadata": {},
          "execution_count": 15
        }
      ]
    },
    {
      "cell_type": "code",
      "source": [
        "topic_desc = []\n",
        "for tags in topic_desc_tags:\n",
        "  topic_desc.append(tags.text.strip())\n",
        "topic_desc[:5]"
      ],
      "metadata": {
        "colab": {
          "base_uri": "https://localhost:8080/"
        },
        "id": "uc8Sj5VLS4Vb",
        "outputId": "86cd99eb-a260-4f53-ff9b-2184417d7653"
      },
      "execution_count": 16,
      "outputs": [
        {
          "output_type": "execute_result",
          "data": {
            "text/plain": [
              "['3D modeling is the process of virtually developing the surface and structure of a 3D object.',\n",
              " 'Ajax is a technique for creating interactive web applications.',\n",
              " 'Algorithms are self-contained sequences that carry out a variety of tasks.',\n",
              " 'Amp is a non-blocking concurrency framework for PHP.',\n",
              " 'Android is an operating system built by Google designed for mobile devices.']"
            ]
          },
          "metadata": {},
          "execution_count": 16
        }
      ]
    },
    {
      "cell_type": "code",
      "source": [
        "topic_urls = []\n",
        "base_url = 'https://github.com'\n",
        "for tags in topic_url_tags:\n",
        "  topic_urls.append(base_url + tags['href'])\n",
        "topic_urls[:5]"
      ],
      "metadata": {
        "colab": {
          "base_uri": "https://localhost:8080/"
        },
        "id": "zmG5heBsTHAL",
        "outputId": "fc038dab-9e57-4cb5-ab43-25fd14730aac"
      },
      "execution_count": 57,
      "outputs": [
        {
          "output_type": "execute_result",
          "data": {
            "text/plain": [
              "['https://github.com/topics/3d',\n",
              " 'https://github.com/topics/ajax',\n",
              " 'https://github.com/topics/algorithm',\n",
              " 'https://github.com/topics/amphp',\n",
              " 'https://github.com/topics/android']"
            ]
          },
          "metadata": {},
          "execution_count": 57
        }
      ]
    },
    {
      "cell_type": "code",
      "source": [
        "!pip install pandas"
      ],
      "metadata": {
        "colab": {
          "base_uri": "https://localhost:8080/"
        },
        "id": "g8gkGMlMTeHW",
        "outputId": "3afe8680-ba77-4990-fa94-3367013667ae"
      },
      "execution_count": 18,
      "outputs": [
        {
          "output_type": "stream",
          "name": "stdout",
          "text": [
            "Requirement already satisfied: pandas in /usr/local/lib/python3.7/dist-packages (1.1.5)\n",
            "Requirement already satisfied: numpy>=1.15.4 in /usr/local/lib/python3.7/dist-packages (from pandas) (1.19.5)\n",
            "Requirement already satisfied: python-dateutil>=2.7.3 in /usr/local/lib/python3.7/dist-packages (from pandas) (2.8.2)\n",
            "Requirement already satisfied: pytz>=2017.2 in /usr/local/lib/python3.7/dist-packages (from pandas) (2018.9)\n",
            "Requirement already satisfied: six>=1.5 in /usr/local/lib/python3.7/dist-packages (from python-dateutil>=2.7.3->pandas) (1.15.0)\n"
          ]
        }
      ]
    },
    {
      "cell_type": "code",
      "source": [
        "import pandas as pd"
      ],
      "metadata": {
        "id": "9gN-_3w7U1Hz"
      },
      "execution_count": 19,
      "outputs": []
    },
    {
      "cell_type": "code",
      "source": [
        "topics_dict = {\n",
        "    'title' : topic_title,\n",
        "    'description' : topic_desc,\n",
        "    'url' : topic_urls\n",
        "}"
      ],
      "metadata": {
        "id": "O5f2cGLAU3sB"
      },
      "execution_count": 60,
      "outputs": []
    },
    {
      "cell_type": "code",
      "source": [
        "topics_df = pd.DataFrame(topics_dict)"
      ],
      "metadata": {
        "id": "NIX-1bP-VkHr"
      },
      "execution_count": 21,
      "outputs": []
    },
    {
      "cell_type": "code",
      "source": [
        "topics_df.to_csv('topics.csv', index=None)"
      ],
      "metadata": {
        "id": "5FbhOON5WF0e"
      },
      "execution_count": 22,
      "outputs": []
    },
    {
      "cell_type": "markdown",
      "source": [
        "Scraping first url in the topics"
      ],
      "metadata": {
        "id": "ioXavKXvadQj"
      }
    },
    {
      "cell_type": "code",
      "source": [
        "topic_urls[0]"
      ],
      "metadata": {
        "colab": {
          "base_uri": "https://localhost:8080/",
          "height": 35
        },
        "id": "3iehxzZwWU2X",
        "outputId": "eb427073-a481-4bbf-9042-016aa6f0f026"
      },
      "execution_count": 58,
      "outputs": [
        {
          "output_type": "execute_result",
          "data": {
            "application/vnd.google.colaboratory.intrinsic+json": {
              "type": "string"
            },
            "text/plain": [
              "'https://github.com/topics/3d'"
            ]
          },
          "metadata": {},
          "execution_count": 58
        }
      ]
    },
    {
      "cell_type": "code",
      "source": [
        "topic_response = requests.get(topic_urls[0])"
      ],
      "metadata": {
        "id": "UJ3Z7gi0aZCd"
      },
      "execution_count": 59,
      "outputs": []
    },
    {
      "cell_type": "code",
      "source": [
        "len(topic_response.text)"
      ],
      "metadata": {
        "colab": {
          "base_uri": "https://localhost:8080/"
        },
        "id": "mlqMKqiQau2Z",
        "outputId": "10975d5a-48ef-4044-b91f-b6a2c1a42801"
      },
      "execution_count": 25,
      "outputs": [
        {
          "output_type": "execute_result",
          "data": {
            "text/plain": [
              "662425"
            ]
          },
          "metadata": {},
          "execution_count": 25
        }
      ]
    },
    {
      "cell_type": "code",
      "source": [
        "topic_doc = BeautifulSoup(topic_response.text, 'html.parser')"
      ],
      "metadata": {
        "id": "noEFXZJ8ayuJ"
      },
      "execution_count": 26,
      "outputs": []
    },
    {
      "cell_type": "code",
      "source": [
        "type(topic_doc)"
      ],
      "metadata": {
        "colab": {
          "base_uri": "https://localhost:8080/"
        },
        "id": "SiN8mAYrbLSc",
        "outputId": "ace330b9-2e74-4a61-f746-6143363fd627"
      },
      "execution_count": 27,
      "outputs": [
        {
          "output_type": "execute_result",
          "data": {
            "text/plain": [
              "bs4.BeautifulSoup"
            ]
          },
          "metadata": {},
          "execution_count": 27
        }
      ]
    },
    {
      "cell_type": "code",
      "source": [
        "len(topic_doc)"
      ],
      "metadata": {
        "colab": {
          "base_uri": "https://localhost:8080/"
        },
        "id": "l1wpPUTebU78",
        "outputId": "f74c076b-9393-4e98-c41a-67b6dd772c79"
      },
      "execution_count": 28,
      "outputs": [
        {
          "output_type": "execute_result",
          "data": {
            "text/plain": [
              "49"
            ]
          },
          "metadata": {},
          "execution_count": 28
        }
      ]
    },
    {
      "cell_type": "markdown",
      "source": [
        "Getting necessary information from topic_doc to create a csv for single topic"
      ],
      "metadata": {
        "id": "mCzcLQl1boUD"
      }
    },
    {
      "cell_type": "code",
      "source": [
        "h3_selector = 'f3 color-fg-muted text-normal lh-condensed'\n",
        "repo_tags = topic_doc.find_all('h3', {'class' :h3_selector})\n",
        "repo_tags[:3]"
      ],
      "metadata": {
        "colab": {
          "base_uri": "https://localhost:8080/"
        },
        "id": "XSVST9FgbXvm",
        "outputId": "5cd64104-5f82-4a02-96ac-e94321b46c5a"
      },
      "execution_count": 41,
      "outputs": [
        {
          "output_type": "execute_result",
          "data": {
            "text/plain": [
              "[<h3 class=\"f3 color-fg-muted text-normal lh-condensed\">\n",
              " <a data-ga-click=\"Explore, go to repository owner, location:explore feed\" data-hydro-click='{\"event_type\":\"explore.click\",\"payload\":{\"click_context\":\"REPOSITORY_CARD\",\"click_target\":\"OWNER\",\"click_visual_representation\":\"REPOSITORY_OWNER_HEADING\",\"actor_id\":null,\"record_id\":97088,\"originating_url\":\"https://github.com/topics/3d\",\"user_id\":null}}' data-hydro-click-hmac=\"4bdbc49d3c05ae7f70b531fbce709a384200b0768554e0172950286a8db30940\" data-view-component=\"true\" href=\"/mrdoob\">\n",
              "             mrdoob\n",
              " </a>          /\n",
              "           <a class=\"text-bold wb-break-word\" data-ga-click=\"Explore, go to repository, location:explore feed\" data-hydro-click='{\"event_type\":\"explore.click\",\"payload\":{\"click_context\":\"REPOSITORY_CARD\",\"click_target\":\"REPOSITORY\",\"click_visual_representation\":\"REPOSITORY_NAME_HEADING\",\"actor_id\":null,\"record_id\":576201,\"originating_url\":\"https://github.com/topics/3d\",\"user_id\":null}}' data-hydro-click-hmac=\"517d3d5cb9d89752156923904a4238816bc9b51ab7772f3e3644ce897d8dd4e5\" data-view-component=\"true\" href=\"/mrdoob/three.js\">\n",
              "             three.js\n",
              " </a> </h3>, <h3 class=\"f3 color-fg-muted text-normal lh-condensed\">\n",
              " <a data-ga-click=\"Explore, go to repository owner, location:explore feed\" data-hydro-click='{\"event_type\":\"explore.click\",\"payload\":{\"click_context\":\"REPOSITORY_CARD\",\"click_target\":\"OWNER\",\"click_visual_representation\":\"REPOSITORY_OWNER_HEADING\",\"actor_id\":null,\"record_id\":509841,\"originating_url\":\"https://github.com/topics/3d\",\"user_id\":null}}' data-hydro-click-hmac=\"760dcd7b253cb1a27d9b1a8675e86db885295be4e0d8d9fa7397adf923075d36\" data-view-component=\"true\" href=\"/libgdx\">\n",
              "             libgdx\n",
              " </a>          /\n",
              "           <a class=\"text-bold wb-break-word\" data-ga-click=\"Explore, go to repository, location:explore feed\" data-hydro-click='{\"event_type\":\"explore.click\",\"payload\":{\"click_context\":\"REPOSITORY_CARD\",\"click_target\":\"REPOSITORY\",\"click_visual_representation\":\"REPOSITORY_NAME_HEADING\",\"actor_id\":null,\"record_id\":5373551,\"originating_url\":\"https://github.com/topics/3d\",\"user_id\":null}}' data-hydro-click-hmac=\"ff9d8fbd4b6a268d54aa44ebd06922a789e146ae9d21db01b8ba7839646f5507\" data-view-component=\"true\" href=\"/libgdx/libgdx\">\n",
              "             libgdx\n",
              " </a> </h3>, <h3 class=\"f3 color-fg-muted text-normal lh-condensed\">\n",
              " <a data-ga-click=\"Explore, go to repository owner, location:explore feed\" data-hydro-click='{\"event_type\":\"explore.click\",\"payload\":{\"click_context\":\"REPOSITORY_CARD\",\"click_target\":\"OWNER\",\"click_visual_representation\":\"REPOSITORY_OWNER_HEADING\",\"actor_id\":null,\"record_id\":45790596,\"originating_url\":\"https://github.com/topics/3d\",\"user_id\":null}}' data-hydro-click-hmac=\"14658fab6217ec4ba70f16dd98006d4334793fae49cc25ce2e1c0bb5a8950006\" data-view-component=\"true\" href=\"/pmndrs\">\n",
              "             pmndrs\n",
              " </a>          /\n",
              "           <a class=\"text-bold wb-break-word\" data-ga-click=\"Explore, go to repository, location:explore feed\" data-hydro-click='{\"event_type\":\"explore.click\",\"payload\":{\"click_context\":\"REPOSITORY_CARD\",\"click_target\":\"REPOSITORY\",\"click_visual_representation\":\"REPOSITORY_NAME_HEADING\",\"actor_id\":null,\"record_id\":172521926,\"originating_url\":\"https://github.com/topics/3d\",\"user_id\":null}}' data-hydro-click-hmac=\"629be4efc1260d27fe29201a1901eb808cbf995e4a51d877282b7164242dbadf\" data-view-component=\"true\" href=\"/pmndrs/react-three-fiber\">\n",
              "             react-three-fiber\n",
              " </a> </h3>]"
            ]
          },
          "metadata": {},
          "execution_count": 41
        }
      ]
    },
    {
      "cell_type": "code",
      "source": [
        "a_tags = repo_tags[0].find_all('a')\n",
        "print(a_tags[0].text.strip(), a_tags[1].text.strip(),a_tags[1]['href'])\n"
      ],
      "metadata": {
        "id": "ugFBoWexexYC",
        "colab": {
          "base_uri": "https://localhost:8080/"
        },
        "outputId": "1809e07c-fd7a-48bd-9229-a651faad8e9b"
      },
      "execution_count": 42,
      "outputs": [
        {
          "output_type": "stream",
          "name": "stdout",
          "text": [
            "mrdoob three.js /mrdoob/three.js\n"
          ]
        }
      ]
    },
    {
      "cell_type": "code",
      "source": [
        "star_selector = 'Counter js-social-count'\n",
        "star_tags = topic_doc.find_all('span', {'class': star_selector})\n",
        "int(star_tags[0]['title'].replace(',', ''))"
      ],
      "metadata": {
        "colab": {
          "base_uri": "https://localhost:8080/"
        },
        "id": "sYA_4Y-WcUSp",
        "outputId": "c980f1eb-d348-4daa-85ec-e37814c4ba60"
      },
      "execution_count": 31,
      "outputs": [
        {
          "output_type": "execute_result",
          "data": {
            "text/plain": [
              "77093"
            ]
          },
          "metadata": {},
          "execution_count": 31
        }
      ]
    },
    {
      "cell_type": "code",
      "source": [
        "\n",
        "def get_repo_info(h3_tag, star_tag):\n",
        "  #Returns all the info about the repo\n",
        "  a_tags = h3_tag.find_all('a')\n",
        "  username = a_tags[0].text.strip()\n",
        "  repo_name = a_tags[1].text.strip()\n",
        "  repo_url = base_url + a_tags[1]['href']\n",
        "  stars = int(star_tag['title'].replace(',', ''))\n",
        "  return username, repo_name, stars, repo_url"
      ],
      "metadata": {
        "id": "5BY76-G9dEXH"
      },
      "execution_count": 46,
      "outputs": []
    },
    {
      "cell_type": "code",
      "source": [
        "get_repo_info(repo_tags[0],star_tags[0])"
      ],
      "metadata": {
        "colab": {
          "base_uri": "https://localhost:8080/"
        },
        "id": "0Sz3c7frvnUK",
        "outputId": "3a592e05-6e5b-4d14-8def-c0a0cefbb77d"
      },
      "execution_count": 47,
      "outputs": [
        {
          "output_type": "execute_result",
          "data": {
            "text/plain": [
              "('mrdoob', 'three.js', 77093, 'https://github.com/mrdoob/three.js')"
            ]
          },
          "metadata": {},
          "execution_count": 47
        }
      ]
    },
    {
      "cell_type": "code",
      "source": [
        "topic_repo_dict = {\n",
        "    'username':[],\n",
        "    'repo_name':[],\n",
        "    'stars':[],\n",
        "    'repo_url':[]\n",
        "}\n",
        "\n",
        "for i in range(len(repo_tags)):\n",
        "  repo_data = get_repo_info(repo_tags[i],star_tags[i])\n",
        "  topic_repo_dict['username'].append(repo_data[0])\n",
        "  topic_repo_dict['repo_name'].append(repo_data[1])\n",
        "  topic_repo_dict['stars'].append(repo_data[2])\n",
        "  topic_repo_dict['repo_url'].append(repo_data[3])"
      ],
      "metadata": {
        "id": "ZjNfQuYGwkGN"
      },
      "execution_count": 48,
      "outputs": []
    },
    {
      "cell_type": "code",
      "source": [
        "len(topic_repo_dict['username'])"
      ],
      "metadata": {
        "colab": {
          "base_uri": "https://localhost:8080/"
        },
        "id": "0Q6IIAJWyQUq",
        "outputId": "1ffdf68d-3434-458d-8e0c-8f127827cbe6"
      },
      "execution_count": 50,
      "outputs": [
        {
          "output_type": "execute_result",
          "data": {
            "text/plain": [
              "30"
            ]
          },
          "metadata": {},
          "execution_count": 50
        }
      ]
    },
    {
      "cell_type": "code",
      "source": [
        "topic_repo_df = pd.DataFrame(topic_repo_dict)"
      ],
      "metadata": {
        "id": "3FdLO6-fyWKR"
      },
      "execution_count": 55,
      "outputs": []
    },
    {
      "cell_type": "code",
      "source": [
        "topic_repo_df.head(10)"
      ],
      "metadata": {
        "colab": {
          "base_uri": "https://localhost:8080/",
          "height": 363
        },
        "id": "wLMoja4_yf9t",
        "outputId": "cdc067e5-9d7e-492a-eb16-f3e2d9de0396"
      },
      "execution_count": 56,
      "outputs": [
        {
          "output_type": "execute_result",
          "data": {
            "text/html": [
              "\n",
              "  <div id=\"df-fffb17dd-a490-4e6e-9dfb-f41253c7c994\">\n",
              "    <div class=\"colab-df-container\">\n",
              "      <div>\n",
              "<style scoped>\n",
              "    .dataframe tbody tr th:only-of-type {\n",
              "        vertical-align: middle;\n",
              "    }\n",
              "\n",
              "    .dataframe tbody tr th {\n",
              "        vertical-align: top;\n",
              "    }\n",
              "\n",
              "    .dataframe thead th {\n",
              "        text-align: right;\n",
              "    }\n",
              "</style>\n",
              "<table border=\"1\" class=\"dataframe\">\n",
              "  <thead>\n",
              "    <tr style=\"text-align: right;\">\n",
              "      <th></th>\n",
              "      <th>username</th>\n",
              "      <th>repo_name</th>\n",
              "      <th>stars</th>\n",
              "      <th>repo_url</th>\n",
              "    </tr>\n",
              "  </thead>\n",
              "  <tbody>\n",
              "    <tr>\n",
              "      <th>0</th>\n",
              "      <td>mrdoob</td>\n",
              "      <td>three.js</td>\n",
              "      <td>77093</td>\n",
              "      <td>https://github.com/mrdoob/three.js</td>\n",
              "    </tr>\n",
              "    <tr>\n",
              "      <th>1</th>\n",
              "      <td>libgdx</td>\n",
              "      <td>libgdx</td>\n",
              "      <td>19438</td>\n",
              "      <td>https://github.com/libgdx/libgdx</td>\n",
              "    </tr>\n",
              "    <tr>\n",
              "      <th>2</th>\n",
              "      <td>pmndrs</td>\n",
              "      <td>react-three-fiber</td>\n",
              "      <td>16138</td>\n",
              "      <td>https://github.com/pmndrs/react-three-fiber</td>\n",
              "    </tr>\n",
              "    <tr>\n",
              "      <th>3</th>\n",
              "      <td>BabylonJS</td>\n",
              "      <td>Babylon.js</td>\n",
              "      <td>15518</td>\n",
              "      <td>https://github.com/BabylonJS/Babylon.js</td>\n",
              "    </tr>\n",
              "    <tr>\n",
              "      <th>4</th>\n",
              "      <td>aframevr</td>\n",
              "      <td>aframe</td>\n",
              "      <td>13444</td>\n",
              "      <td>https://github.com/aframevr/aframe</td>\n",
              "    </tr>\n",
              "    <tr>\n",
              "      <th>5</th>\n",
              "      <td>ssloy</td>\n",
              "      <td>tinyrenderer</td>\n",
              "      <td>11801</td>\n",
              "      <td>https://github.com/ssloy/tinyrenderer</td>\n",
              "    </tr>\n",
              "    <tr>\n",
              "      <th>6</th>\n",
              "      <td>lettier</td>\n",
              "      <td>3d-game-shaders-for-beginners</td>\n",
              "      <td>11716</td>\n",
              "      <td>https://github.com/lettier/3d-game-shaders-for...</td>\n",
              "    </tr>\n",
              "    <tr>\n",
              "      <th>7</th>\n",
              "      <td>FreeCAD</td>\n",
              "      <td>FreeCAD</td>\n",
              "      <td>10379</td>\n",
              "      <td>https://github.com/FreeCAD/FreeCAD</td>\n",
              "    </tr>\n",
              "    <tr>\n",
              "      <th>8</th>\n",
              "      <td>metafizzy</td>\n",
              "      <td>zdog</td>\n",
              "      <td>8914</td>\n",
              "      <td>https://github.com/metafizzy/zdog</td>\n",
              "    </tr>\n",
              "    <tr>\n",
              "      <th>9</th>\n",
              "      <td>CesiumGS</td>\n",
              "      <td>cesium</td>\n",
              "      <td>8109</td>\n",
              "      <td>https://github.com/CesiumGS/cesium</td>\n",
              "    </tr>\n",
              "  </tbody>\n",
              "</table>\n",
              "</div>\n",
              "      <button class=\"colab-df-convert\" onclick=\"convertToInteractive('df-fffb17dd-a490-4e6e-9dfb-f41253c7c994')\"\n",
              "              title=\"Convert this dataframe to an interactive table.\"\n",
              "              style=\"display:none;\">\n",
              "        \n",
              "  <svg xmlns=\"http://www.w3.org/2000/svg\" height=\"24px\"viewBox=\"0 0 24 24\"\n",
              "       width=\"24px\">\n",
              "    <path d=\"M0 0h24v24H0V0z\" fill=\"none\"/>\n",
              "    <path d=\"M18.56 5.44l.94 2.06.94-2.06 2.06-.94-2.06-.94-.94-2.06-.94 2.06-2.06.94zm-11 1L8.5 8.5l.94-2.06 2.06-.94-2.06-.94L8.5 2.5l-.94 2.06-2.06.94zm10 10l.94 2.06.94-2.06 2.06-.94-2.06-.94-.94-2.06-.94 2.06-2.06.94z\"/><path d=\"M17.41 7.96l-1.37-1.37c-.4-.4-.92-.59-1.43-.59-.52 0-1.04.2-1.43.59L10.3 9.45l-7.72 7.72c-.78.78-.78 2.05 0 2.83L4 21.41c.39.39.9.59 1.41.59.51 0 1.02-.2 1.41-.59l7.78-7.78 2.81-2.81c.8-.78.8-2.07 0-2.86zM5.41 20L4 18.59l7.72-7.72 1.47 1.35L5.41 20z\"/>\n",
              "  </svg>\n",
              "      </button>\n",
              "      \n",
              "  <style>\n",
              "    .colab-df-container {\n",
              "      display:flex;\n",
              "      flex-wrap:wrap;\n",
              "      gap: 12px;\n",
              "    }\n",
              "\n",
              "    .colab-df-convert {\n",
              "      background-color: #E8F0FE;\n",
              "      border: none;\n",
              "      border-radius: 50%;\n",
              "      cursor: pointer;\n",
              "      display: none;\n",
              "      fill: #1967D2;\n",
              "      height: 32px;\n",
              "      padding: 0 0 0 0;\n",
              "      width: 32px;\n",
              "    }\n",
              "\n",
              "    .colab-df-convert:hover {\n",
              "      background-color: #E2EBFA;\n",
              "      box-shadow: 0px 1px 2px rgba(60, 64, 67, 0.3), 0px 1px 3px 1px rgba(60, 64, 67, 0.15);\n",
              "      fill: #174EA6;\n",
              "    }\n",
              "\n",
              "    [theme=dark] .colab-df-convert {\n",
              "      background-color: #3B4455;\n",
              "      fill: #D2E3FC;\n",
              "    }\n",
              "\n",
              "    [theme=dark] .colab-df-convert:hover {\n",
              "      background-color: #434B5C;\n",
              "      box-shadow: 0px 1px 3px 1px rgba(0, 0, 0, 0.15);\n",
              "      filter: drop-shadow(0px 1px 2px rgba(0, 0, 0, 0.3));\n",
              "      fill: #FFFFFF;\n",
              "    }\n",
              "  </style>\n",
              "\n",
              "      <script>\n",
              "        const buttonEl =\n",
              "          document.querySelector('#df-fffb17dd-a490-4e6e-9dfb-f41253c7c994 button.colab-df-convert');\n",
              "        buttonEl.style.display =\n",
              "          google.colab.kernel.accessAllowed ? 'block' : 'none';\n",
              "\n",
              "        async function convertToInteractive(key) {\n",
              "          const element = document.querySelector('#df-fffb17dd-a490-4e6e-9dfb-f41253c7c994');\n",
              "          const dataTable =\n",
              "            await google.colab.kernel.invokeFunction('convertToInteractive',\n",
              "                                                     [key], {});\n",
              "          if (!dataTable) return;\n",
              "\n",
              "          const docLinkHtml = 'Like what you see? Visit the ' +\n",
              "            '<a target=\"_blank\" href=https://colab.research.google.com/notebooks/data_table.ipynb>data table notebook</a>'\n",
              "            + ' to learn more about interactive tables.';\n",
              "          element.innerHTML = '';\n",
              "          dataTable['output_type'] = 'display_data';\n",
              "          await google.colab.output.renderOutput(dataTable, element);\n",
              "          const docLink = document.createElement('div');\n",
              "          docLink.innerHTML = docLinkHtml;\n",
              "          element.appendChild(docLink);\n",
              "        }\n",
              "      </script>\n",
              "    </div>\n",
              "  </div>\n",
              "  "
            ],
            "text/plain": [
              "    username  ...                                           repo_url\n",
              "0     mrdoob  ...                 https://github.com/mrdoob/three.js\n",
              "1     libgdx  ...                   https://github.com/libgdx/libgdx\n",
              "2     pmndrs  ...        https://github.com/pmndrs/react-three-fiber\n",
              "3  BabylonJS  ...            https://github.com/BabylonJS/Babylon.js\n",
              "4   aframevr  ...                 https://github.com/aframevr/aframe\n",
              "5      ssloy  ...              https://github.com/ssloy/tinyrenderer\n",
              "6    lettier  ...  https://github.com/lettier/3d-game-shaders-for...\n",
              "7    FreeCAD  ...                 https://github.com/FreeCAD/FreeCAD\n",
              "8  metafizzy  ...                  https://github.com/metafizzy/zdog\n",
              "9   CesiumGS  ...                 https://github.com/CesiumGS/cesium\n",
              "\n",
              "[10 rows x 4 columns]"
            ]
          },
          "metadata": {},
          "execution_count": 56
        }
      ]
    },
    {
      "cell_type": "markdown",
      "source": [
        "Creating fucntion to perform all the above task in one go"
      ],
      "metadata": {
        "id": "oEbhZ_0LzFUO"
      }
    },
    {
      "cell_type": "code",
      "source": [
        "def get_topic_repo_df(topic_url):\n",
        "\n",
        "  topic_response = requests.get(topic_url)\n",
        "  \n",
        "  if topic_response.status_code != 200:\n",
        "    raise Exception('Page not found'.format(topic_url))\n",
        "  \n",
        "  topic_doc = BeautifulSoup(topic_response.text, 'html.parser')\n",
        "  \n",
        "  #Getting Repo tags\n",
        "  h3_selector = 'f3 color-fg-muted text-normal lh-condensed'\n",
        "  repo_tags = topic_doc.find_all('h3', {'class' :h3_selector})\n",
        "  \n",
        "  #Getting Star Tags\n",
        "  star_selector = 'Counter js-social-count'\n",
        "  star_tags = topic_doc.find_all('span', {'class': star_selector})\n",
        "\n",
        "  # Getting complete repo information\n",
        "  topic_repo_dict = {\n",
        "    'username':[],\n",
        "    'repo_name':[],\n",
        "    'stars':[],\n",
        "    'repo_url':[]\n",
        "  }\n",
        "\n",
        "  for i in range(len(repo_tags)):\n",
        "    repo_data = get_repo_info(repo_tags[i],star_tags[i])\n",
        "    topic_repo_dict['username'].append(repo_data[0])\n",
        "    topic_repo_dict['repo_name'].append(repo_data[1])\n",
        "    topic_repo_dict['stars'].append(repo_data[2])\n",
        "    topic_repo_dict['repo_url'].append(repo_data[3])\n",
        "\n",
        "  return pd.DataFrame(topic_repo_dict)\n",
        "\n"
      ],
      "metadata": {
        "id": "8IbSiwPiyjKG"
      },
      "execution_count": 61,
      "outputs": []
    },
    {
      "cell_type": "code",
      "source": [
        "topic5_url = topic_urls[4]"
      ],
      "metadata": {
        "id": "wm-xhSX08xIX"
      },
      "execution_count": 62,
      "outputs": []
    },
    {
      "cell_type": "code",
      "source": [
        "topic5_url"
      ],
      "metadata": {
        "colab": {
          "base_uri": "https://localhost:8080/",
          "height": 35
        },
        "id": "ZmpBLlP693KR",
        "outputId": "da1197ae-2994-4452-a260-2d7184397f64"
      },
      "execution_count": 63,
      "outputs": [
        {
          "output_type": "execute_result",
          "data": {
            "application/vnd.google.colaboratory.intrinsic+json": {
              "type": "string"
            },
            "text/plain": [
              "'https://github.com/topics/android'"
            ]
          },
          "metadata": {},
          "execution_count": 63
        }
      ]
    },
    {
      "cell_type": "markdown",
      "source": [
        "#**Final Code**\n",
        "\n",
        "1.  Get the list of topic name along with their urls.\n",
        "2.  Get a list of top repositories for each topic.\n",
        "3.  For each topic, Create a directory and save the information in .CSV format.\n",
        "\n"
      ],
      "metadata": {
        "id": "d7eODxZ7EHqd"
      }
    },
    {
      "cell_type": "code",
      "source": [
        "# Imports\n",
        "import requests\n",
        "import pandas as pd\n",
        "from bs4 import BeautifulSoup\n",
        "import os"
      ],
      "metadata": {
        "id": "x9vA4JkY-AtV"
      },
      "execution_count": 81,
      "outputs": []
    },
    {
      "cell_type": "code",
      "source": [
        "def get_topic_titles(doc):\n",
        "  # This function returns all the titles in a list format.\n",
        "  title_selector = 'f3 lh-condensed mb-0 mt-1 Link--primary'\n",
        "  topic_title_tags = doc.find_all('p', {'class':title_selector})\n",
        "  topic_titles = []\n",
        "  for tags in topic_title_tags:\n",
        "    topic_titles.append(tags.text)\n",
        "  return topic_titles\n",
        "\n",
        "def get_topic_descs(doc):\n",
        "  # This function returns all the descriptions in a list format. \n",
        "  desc_selector = 'f5 color-fg-muted mb-0 mt-1'\n",
        "  topic_desc_tags = doc.find_all('p',{'class':desc_selector})\n",
        "  topic_descs = []\n",
        "  for tags in topic_desc_tags:\n",
        "    topic_descs.append(tags.text.strip())\n",
        "  return topic_descs\n",
        "\n",
        "def get_topic_urls(doc):\n",
        "  # This functions returns all the topics urls in a list format.\n",
        "  topic_url_selector = 'd-flex no-underline'\n",
        "  topic_url_tags = doc.find_all('a',{'class':topic_url_selector})\n",
        "  topic_urls = []\n",
        "  base_url = 'https://github.com'\n",
        "  for tags in topic_url_tags:\n",
        "    topic_urls.append(base_url + tags['href'])\n",
        "  return topic_urls\n",
        "\n",
        "def scrape_topics():\n",
        "  ''' This function requests all the topics for github topics page and retuns \n",
        "  a pandas dataframe '''\n",
        "  topics_url = 'http://www.github.com/topics'\n",
        "  response  =  requests.get(topics_url)  \n",
        "  if response.status_code != 200:\n",
        "    raise Exception('Page not found'.format(topics_url))\n",
        "  parsed_doc = BeautifulSoup(page_content, 'html.parser')\n",
        "  \n",
        "  topics_dict ={\n",
        "      'Title': get_topic_titles(parsed_doc),\n",
        "      'Descritpion': get_topic_descs(parsed_doc),\n",
        "      'URL': get_topic_urls(parsed_doc)\n",
        "  }\n",
        "  return pd.DataFrame(topics_dict)"
      ],
      "metadata": {
        "id": "hu3SXDx7FAhc"
      },
      "execution_count": 78,
      "outputs": []
    },
    {
      "cell_type": "code",
      "source": [
        "def get_topic_page(topic_url):\n",
        "  # Returns a bs4 object containing info of a topic\n",
        "  topic_response = requests.get(topic_url)\n",
        "  if topic_response.status_code != 200:\n",
        "    raise Exception('Page not found.... \"{}\"'.format(topic_url))\n",
        "  return BeautifulSoup(topic_response.text, 'html.parser')\n",
        "\n",
        "def get_repo_info(h3_tag, star_tag):\n",
        "  #Returns all the info about a repository\n",
        "  a_tags = h3_tag.find_all('a')\n",
        "  username = a_tags[0].text.strip()\n",
        "  repo_name = a_tags[1].text.strip()\n",
        "  repo_url = base_url + a_tags[1]['href']\n",
        "  stars = int(star_tag['title'].replace(',', ''))\n",
        "  return username, repo_name, stars, repo_url\n",
        "\n",
        "def get_topic_repos(topic_doc):\n",
        "  # Returns a DataFrame object that contains top repositories of a single topic\n",
        "\n",
        "  #Getting Repo tags\n",
        "  h3_selector = 'f3 color-fg-muted text-normal lh-condensed'\n",
        "  repo_tags = topic_doc.find_all('h3', {'class' :h3_selector})\n",
        "  \n",
        "  #Getting Star Tags\n",
        "  star_selector = 'Counter js-social-count'\n",
        "  star_tags = topic_doc.find_all('span', {'class': star_selector})\n",
        "\n",
        "  # Getting complete repo information\n",
        "  topic_repo_dict = {\n",
        "    'username':[],\n",
        "    'repo_name':[],\n",
        "    'stars':[],\n",
        "    'repo_url':[]\n",
        "  }\n",
        "\n",
        "  for i in range(len(repo_tags)):\n",
        "    repo_data = get_repo_info(repo_tags[i],star_tags[i])\n",
        "    topic_repo_dict['username'].append(repo_data[0])\n",
        "    topic_repo_dict['repo_name'].append(repo_data[1])\n",
        "    topic_repo_dict['stars'].append(repo_data[2])\n",
        "    topic_repo_dict['repo_url'].append(repo_data[3])\n",
        "\n",
        "  return pd.DataFrame(topic_repo_dict)\n",
        "\n",
        "def scrape_topic_helper(topic_url, path):\n",
        "  if os.path.exists(path):\n",
        "    print('The file at path \"{}\" already exists!! Skipping....'.format(path))\n",
        "    return\n",
        "  topics_helper_df = get_topic_repos(get_topic_page(topic_url))\n",
        "  topics_helper_df.to_csv(path, index=None)"
      ],
      "metadata": {
        "id": "O9B-0GTqZTDw"
      },
      "execution_count": 94,
      "outputs": []
    },
    {
      "cell_type": "code",
      "source": [
        "def scrape_topic_repos():\n",
        "  topics_df = scrape_topics()\n",
        "  print('Scraping List of topics from \"{}\"'.format(topics_url))\n",
        "  os.makedirs('Github_repos_data', exist_ok=True)\n",
        "  for index, row in topics_df.iterrows():\n",
        "    print('Scraping \"{}\" repositories'.format(row['Title']))\n",
        "    scrape_topic_helper(row['URL'], 'Github_repos_data/{}.csv'.format(row['Title'].replace(' ', '_')))\n",
        "  "
      ],
      "metadata": {
        "id": "DBRtZt2pKcj3"
      },
      "execution_count": 92,
      "outputs": []
    },
    {
      "cell_type": "code",
      "source": [
        "scrape_topic_repos()"
      ],
      "metadata": {
        "colab": {
          "base_uri": "https://localhost:8080/"
        },
        "id": "1qcGxh4KcM4b",
        "outputId": "addf97a8-1ac7-4b72-8f93-090e03e578e1"
      },
      "execution_count": 96,
      "outputs": [
        {
          "output_type": "stream",
          "name": "stdout",
          "text": [
            "Scraping List of topics from \"http://www.github.com/topics\"\n",
            "Scraping \"3D\" repositories\n",
            "The file at path \"Github_repos_data/3D.csv\" already exists!! Skipping....\n",
            "Scraping \"Ajax\" repositories\n",
            "The file at path \"Github_repos_data/Ajax.csv\" already exists!! Skipping....\n",
            "Scraping \"Algorithm\" repositories\n",
            "The file at path \"Github_repos_data/Algorithm.csv\" already exists!! Skipping....\n",
            "Scraping \"Amp\" repositories\n",
            "The file at path \"Github_repos_data/Amp.csv\" already exists!! Skipping....\n",
            "Scraping \"Android\" repositories\n",
            "The file at path \"Github_repos_data/Android.csv\" already exists!! Skipping....\n",
            "Scraping \"Angular\" repositories\n",
            "The file at path \"Github_repos_data/Angular.csv\" already exists!! Skipping....\n",
            "Scraping \"Ansible\" repositories\n",
            "The file at path \"Github_repos_data/Ansible.csv\" already exists!! Skipping....\n",
            "Scraping \"API\" repositories\n",
            "The file at path \"Github_repos_data/API.csv\" already exists!! Skipping....\n",
            "Scraping \"Arduino\" repositories\n",
            "The file at path \"Github_repos_data/Arduino.csv\" already exists!! Skipping....\n",
            "Scraping \"ASP.NET\" repositories\n",
            "The file at path \"Github_repos_data/ASP.NET.csv\" already exists!! Skipping....\n",
            "Scraping \"Atom\" repositories\n",
            "The file at path \"Github_repos_data/Atom.csv\" already exists!! Skipping....\n",
            "Scraping \"Awesome Lists\" repositories\n",
            "The file at path \"Github_repos_data/Awesome_Lists.csv\" already exists!! Skipping....\n",
            "Scraping \"Amazon Web Services\" repositories\n",
            "The file at path \"Github_repos_data/Amazon_Web_Services.csv\" already exists!! Skipping....\n",
            "Scraping \"Azure\" repositories\n",
            "The file at path \"Github_repos_data/Azure.csv\" already exists!! Skipping....\n",
            "Scraping \"Babel\" repositories\n",
            "The file at path \"Github_repos_data/Babel.csv\" already exists!! Skipping....\n",
            "Scraping \"Bash\" repositories\n",
            "The file at path \"Github_repos_data/Bash.csv\" already exists!! Skipping....\n",
            "Scraping \"Bitcoin\" repositories\n",
            "The file at path \"Github_repos_data/Bitcoin.csv\" already exists!! Skipping....\n",
            "Scraping \"Bootstrap\" repositories\n",
            "The file at path \"Github_repos_data/Bootstrap.csv\" already exists!! Skipping....\n",
            "Scraping \"Bot\" repositories\n",
            "The file at path \"Github_repos_data/Bot.csv\" already exists!! Skipping....\n",
            "Scraping \"C\" repositories\n",
            "The file at path \"Github_repos_data/C.csv\" already exists!! Skipping....\n",
            "Scraping \"Chrome\" repositories\n",
            "The file at path \"Github_repos_data/Chrome.csv\" already exists!! Skipping....\n",
            "Scraping \"Chrome extension\" repositories\n",
            "The file at path \"Github_repos_data/Chrome_extension.csv\" already exists!! Skipping....\n",
            "Scraping \"Command line interface\" repositories\n",
            "The file at path \"Github_repos_data/Command_line_interface.csv\" already exists!! Skipping....\n",
            "Scraping \"Clojure\" repositories\n",
            "The file at path \"Github_repos_data/Clojure.csv\" already exists!! Skipping....\n",
            "Scraping \"Code quality\" repositories\n",
            "The file at path \"Github_repos_data/Code_quality.csv\" already exists!! Skipping....\n",
            "Scraping \"Code review\" repositories\n",
            "The file at path \"Github_repos_data/Code_review.csv\" already exists!! Skipping....\n",
            "Scraping \"Compiler\" repositories\n",
            "The file at path \"Github_repos_data/Compiler.csv\" already exists!! Skipping....\n",
            "Scraping \"Continuous integration\" repositories\n",
            "The file at path \"Github_repos_data/Continuous_integration.csv\" already exists!! Skipping....\n",
            "Scraping \"COVID-19\" repositories\n",
            "The file at path \"Github_repos_data/COVID-19.csv\" already exists!! Skipping....\n",
            "Scraping \"C++\" repositories\n",
            "The file at path \"Github_repos_data/C++.csv\" already exists!! Skipping....\n"
          ]
        }
      ]
    }
  ]
}